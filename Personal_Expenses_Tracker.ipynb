{
 "cells": [
  {
   "cell_type": "markdown",
   "id": "7e16d0b6-275b-4d7e-8d41-7f911f6101d1",
   "metadata": {},
   "source": [
    "# Personal Expenses Tracker"
   ]
  },
  {
   "cell_type": "markdown",
   "id": "47d61759-6d92-4fc1-8a4f-4e8742944acf",
   "metadata": {},
   "source": [
    "## What are we tracking???"
   ]
  },
  {
   "cell_type": "markdown",
   "id": "120a4b72-f639-4455-8609-0d1cd3926abf",
   "metadata": {},
   "source": [
    "### Create Variables"
   ]
  },
  {
   "cell_type": "code",
   "execution_count": 28,
   "id": "102f4f4c-307f-4024-a375-f4844faa7c45",
   "metadata": {},
   "outputs": [],
   "source": [
    "user = \"Kemi\" # str\n",
    "current_month = \"August 2025\" # str\n",
    "currency = \"#\" # str\n",
    "budget = 100000.00 # float\n",
    "num_of_days_in_month = 31 # int\n",
    "is_budget_set = True # bool\n",
    "\n"
   ]
  },
  {
   "cell_type": "code",
   "execution_count": 12,
   "id": "2b18297d-703f-477a-8c89-bed55373743c",
   "metadata": {},
   "outputs": [
    {
     "name": "stdout",
     "output_type": "stream",
     "text": [
      "Hello Kemi\n"
     ]
    }
   ],
   "source": [
    "print('Hello', user)"
   ]
  },
  {
   "cell_type": "code",
   "execution_count": 29,
   "id": "ae920ee7-2c3f-4198-b440-abb5503fa072",
   "metadata": {},
   "outputs": [
    {
     "name": "stdout",
     "output_type": "stream",
     "text": [
      "Budget for August 2025 : 100000.0\n"
     ]
    }
   ],
   "source": [
    "print('Budget for', current_month,':', budget)"
   ]
  },
  {
   "cell_type": "code",
   "execution_count": 60,
   "id": "9cad221e-dc3d-47d3-8eac-3bbe6a330844",
   "metadata": {},
   "outputs": [],
   "source": [
    "expenses_date = '2025-08-20' # str"
   ]
  },
  {
   "cell_type": "code",
   "execution_count": 61,
   "id": "47aebafd-3f33-419c-9f17-c87fdc06ca29",
   "metadata": {},
   "outputs": [
    {
     "name": "stdout",
     "output_type": "stream",
     "text": [
      "2025-08-20\n"
     ]
    }
   ],
   "source": [
    "print(expenses_date)"
   ]
  },
  {
   "cell_type": "code",
   "execution_count": null,
   "id": "0b797103-0f0b-4aec-8d5b-5d6b37be4d70",
   "metadata": {},
   "outputs": [],
   "source": []
  },
  {
   "cell_type": "code",
   "execution_count": null,
   "id": "443402d5-b98d-448b-90d0-2250d741b615",
   "metadata": {},
   "outputs": [],
   "source": []
  },
  {
   "cell_type": "markdown",
   "id": "7101d3a6-d49a-415e-b965-7f6f88a105db",
   "metadata": {},
   "source": [
    "### A Single Expense"
   ]
  },
  {
   "cell_type": "code",
   "execution_count": 36,
   "id": "c5469c9c-7a74-40a3-8654-397aa7b6153b",
   "metadata": {},
   "outputs": [],
   "source": [
    "item = 'rent'\n",
    "amount = 20000.00\n",
    "expenses_date = '2025-08-02'\n",
    "category = 'housing'\n",
    "is_necessary = True\n"
   ]
  },
  {
   "cell_type": "code",
   "execution_count": null,
   "id": "38540620-749e-411c-ad58-94314d1593ae",
   "metadata": {},
   "outputs": [],
   "source": []
  },
  {
   "cell_type": "code",
   "execution_count": 48,
   "id": "586613f4-6832-4743-b4bf-cba8a6332cb0",
   "metadata": {},
   "outputs": [],
   "source": [
    "items = ['Rent', 'Phone Recharge', 'Electricity', 'Transport', 'Medicine', 'Data Bundle', 'KFC', 'Clothes', 'Alx Subscription', 'Gas', 'Netflix']\n",
    "prices = [ 20000.00, 5000.00, 10000.00, 12000.00, 5000.00, 10000.00, 4000.00, 10000.00, 8000.00, 6000.00, 3000.00]\n",
    "categories =['Housing', 'Utility', 'Utility', 'Transportation', 'Healthcare', 'Utility', 'Food','Basic', 'Education', 'Utility', 'Entertainment'] \n",
    "necessary = [ True, True, True, True, True, True, False, True, True, True, False]"
   ]
  },
  {
   "cell_type": "code",
   "execution_count": 50,
   "id": "74ac2302-adaf-4b79-9f38-4385f48db0ee",
   "metadata": {},
   "outputs": [],
   "source": [
    "total_expenses = sum(prices)"
   ]
  },
  {
   "cell_type": "code",
   "execution_count": null,
   "id": "ac877548-9e58-4b0b-a2d6-8c212f87b5fb",
   "metadata": {},
   "outputs": [],
   "source": []
  },
  {
   "cell_type": "code",
   "execution_count": 52,
   "id": "5ae95c1a-6f6e-4971-9303-dc426950170d",
   "metadata": {},
   "outputs": [],
   "source": [
    "balance = budget - total_expenses"
   ]
  },
  {
   "cell_type": "code",
   "execution_count": null,
   "id": "383bceeb-5087-4869-9a9f-bab143fea6fa",
   "metadata": {},
   "outputs": [],
   "source": []
  },
  {
   "cell_type": "code",
   "execution_count": 57,
   "id": "7839d4e0-8b87-4f91-9768-37b409c9fae9",
   "metadata": {},
   "outputs": [],
   "source": [
    "num_of_items = len(items)"
   ]
  },
  {
   "cell_type": "code",
   "execution_count": null,
   "id": "5f2d9f7d-6d57-4207-b8a3-e2f9133ccd97",
   "metadata": {},
   "outputs": [],
   "source": []
  },
  {
   "cell_type": "code",
   "execution_count": 39,
   "id": "1e9ccfc7-6559-40c5-bc35-7892b91b098b",
   "metadata": {},
   "outputs": [],
   "source": [
    "closing_balance = budget - amount"
   ]
  },
  {
   "cell_type": "code",
   "execution_count": 64,
   "id": "6ca95602-44ad-4b2b-8ee0-81c4e16f7068",
   "metadata": {},
   "outputs": [
    {
     "name": "stdout",
     "output_type": "stream",
     "text": [
      "===================================\n",
      "        Expenses Tracker\n",
      "===================================\n",
      "Owner               Kemi\n",
      "Period              August 2025\n",
      "Date                2025-08-20\n",
      "-----------------------------------\n",
      "Currency            #\n",
      "Starting Balance    100000.0\n",
      "Total Expenses      93000.0\n",
      "===================================\n",
      "closing Balance     7000.0\n",
      "Transactions        11\n",
      "===================================\n",
      "     See you next month\n",
      "===================================\n"
     ]
    }
   ],
   "source": [
    "print('=' * 35)\n",
    "print('        Expenses Tracker')\n",
    "print('=' * 35)\n",
    "print('Owner              ', user)\n",
    "print('Period             ', current_month)\n",
    "print('Date               ', expenses_date)\n",
    "print('-' * 35)\n",
    "print('Currency           ', currency)\n",
    "print('Starting Balance   ', budget)\n",
    "print('Total Expenses     ', total_expenses)\n",
    "print('=' * 35)\n",
    "print('closing Balance    ', balance)\n",
    "print('Transactions       ', num_of_items)\n",
    "print('=' * 35)\n",
    "print('     See you next month')\n",
    "print( '=' * 35)"
   ]
  },
  {
   "cell_type": "code",
   "execution_count": null,
   "id": "1a4116ba-a528-4982-99b3-101f4df4cbe5",
   "metadata": {},
   "outputs": [],
   "source": []
  }
 ],
 "metadata": {
  "kernelspec": {
   "display_name": "Python 3 (ipykernel)",
   "language": "python",
   "name": "python3"
  },
  "language_info": {
   "codemirror_mode": {
    "name": "ipython",
    "version": 3
   },
   "file_extension": ".py",
   "mimetype": "text/x-python",
   "name": "python",
   "nbconvert_exporter": "python",
   "pygments_lexer": "ipython3",
   "version": "3.10.18"
  }
 },
 "nbformat": 4,
 "nbformat_minor": 5
}
